{
 "cells": [
  {
   "cell_type": "code",
   "execution_count": 2,
   "metadata": {},
   "outputs": [
    {
     "ename": "ModuleNotFoundError",
     "evalue": "No module named 'altair'",
     "output_type": "error",
     "traceback": [
      "\u001b[0;31m---------------------------------------------------------------------------\u001b[0m",
      "\u001b[0;31mModuleNotFoundError\u001b[0m                       Traceback (most recent call last)",
      "\u001b[0;32m<ipython-input-2-da7f9cf34f79>\u001b[0m in \u001b[0;36m<module>\u001b[0;34m()\u001b[0m\n\u001b[1;32m      1\u001b[0m \u001b[0;32mimport\u001b[0m \u001b[0mpandas\u001b[0m \u001b[0;32mas\u001b[0m \u001b[0mpd\u001b[0m\u001b[0;34m\u001b[0m\u001b[0;34m\u001b[0m\u001b[0m\n\u001b[1;32m      2\u001b[0m \u001b[0;32mimport\u001b[0m \u001b[0mnumpy\u001b[0m \u001b[0;32mas\u001b[0m \u001b[0mnp\u001b[0m\u001b[0;34m\u001b[0m\u001b[0;34m\u001b[0m\u001b[0m\n\u001b[0;32m----> 3\u001b[0;31m \u001b[0;32mimport\u001b[0m \u001b[0maltair\u001b[0m \u001b[0;32mas\u001b[0m \u001b[0malt\u001b[0m\u001b[0;34m\u001b[0m\u001b[0;34m\u001b[0m\u001b[0m\n\u001b[0m",
      "\u001b[0;31mModuleNotFoundError\u001b[0m: No module named 'altair'"
     ]
    }
   ],
   "source": [
    "import pandas as pd\n",
    "import numpy as np\n",
    "import altair as alt"
   ]
  },
  {
   "cell_type": "code",
   "execution_count": 15,
   "metadata": {},
   "outputs": [
    {
     "name": "stdout",
     "output_type": "stream",
     "text": [
      "     year  population       type\n",
      "0    1950   37297.640   estimate\n",
      "1    1951   37815.540   estimate\n",
      "2    1952   38360.078   estimate\n",
      "3    1953   38915.814   estimate\n",
      "4    1954   39471.403   estimate\n",
      "5    1955   40019.483   estimate\n",
      "6    1956   40557.034   estimate\n",
      "7    1957   41085.019   estimate\n",
      "8    1958   41607.893   estimate\n",
      "9    1959   42132.440   estimate\n",
      "10   1960   42664.646   estimate\n",
      "11   1961   43206.353   estimate\n",
      "12   1962   43752.227   estimate\n",
      "13   1963   44288.607   estimate\n",
      "14   1964   44796.959   estimate\n",
      "15   1965   45264.552   estimate\n",
      "16   1966   45684.983   estimate\n",
      "17   1967   46063.219   estimate\n",
      "18   1968   46411.816   estimate\n",
      "19   1969   46749.289   estimate\n",
      "20   1970   47088.862   estimate\n",
      "21   1971   47435.008   estimate\n",
      "22   1972   47783.006   estimate\n",
      "23   1973   48125.829   estimate\n",
      "24   1974   48452.623   estimate\n",
      "25   1975   48755.662   estimate\n",
      "26   1976   49032.729   estimate\n",
      "27   1977   49287.118   estimate\n",
      "28   1978   49523.304   estimate\n",
      "29   1979   49747.998   estimate\n",
      "..    ...         ...        ...\n",
      "770  2071   25110.740  no change\n",
      "771  2072   24781.385  no change\n",
      "772  2073   24459.951  no change\n",
      "773  2074   24146.560  no change\n",
      "774  2075   23841.167  no change\n",
      "775  2076   23543.770  no change\n",
      "776  2077   23254.128  no change\n",
      "777  2078   22971.691  no change\n",
      "778  2079   22695.717  no change\n",
      "779  2080   22425.502  no change\n",
      "780  2081   22160.755  no change\n",
      "781  2082   21901.105  no change\n",
      "782  2083   21645.736  no change\n",
      "783  2084   21393.733  no change\n",
      "784  2085   21144.328  no change\n",
      "785  2086   20897.134  no change\n",
      "786  2087   20651.942  no change\n",
      "787  2088   20408.392  no change\n",
      "788  2089   20166.165  no change\n",
      "789  2090   19925.064  no change\n",
      "790  2091   19685.001  no change\n",
      "791  2092   19445.985  no change\n",
      "792  2093   19208.136  no change\n",
      "793  2094   18971.657  no change\n",
      "794  2095   18736.814  no change\n",
      "795  2096   18503.920  no change\n",
      "796  2097   18273.377  no change\n",
      "797  2098   18045.583  no change\n",
      "798  2099   17821.078  no change\n",
      "799  2100   17600.380  no change\n",
      "\n",
      "[800 rows x 3 columns]\n",
      "['estimate' 'medium variant' 'high variant' 'low variant'\n",
      " 'constant fertility' 'instant replacement' 'momentum' 'zero migration'\n",
      " 'constant mortality' 'no change']\n"
     ]
    }
   ],
   "source": [
    "data = pd.read_csv(\"population_prospects.csv\")\n",
    "print(data)\n",
    "print(data['type'].unique())"
   ]
  },
  {
   "cell_type": "code",
   "execution_count": 10,
   "metadata": {},
   "outputs": [
    {
     "name": "stdout",
     "output_type": "stream",
     "text": [
      "     year  population                 type\n",
      "72   2021   43466.822       medium variant\n",
      "73   2022   43192.120       medium variant\n",
      "74   2023   42911.306       medium variant\n",
      "75   2024   42626.269       medium variant\n",
      "153  2021   43510.982         high variant\n",
      "154  2022   43292.860         high variant\n",
      "155  2023   43078.591         high variant\n",
      "156  2024   42867.590         high variant\n",
      "234  2021   43416.407          low variant\n",
      "235  2022   43083.771          low variant\n",
      "236  2023   42738.389          low variant\n",
      "237  2024   42382.422          low variant\n",
      "315  2021   43468.429   constant fertility\n",
      "316  2022   43196.458   constant fertility\n",
      "317  2023   42918.754   constant fertility\n",
      "318  2024   42636.085   constant fertility\n",
      "396  2021   43580.450  instant replacement\n",
      "397  2022   43466.269  instant replacement\n",
      "398  2023   43375.901  instant replacement\n",
      "399  2024   43286.687  instant replacement\n",
      "477  2021   43564.349             momentum\n",
      "478  2022   43426.984             momentum\n",
      "479  2023   43307.277             momentum\n",
      "480  2024   43184.021             momentum\n",
      "558  2021   43460.493       zero migration\n",
      "559  2022   43181.379       zero migration\n",
      "560  2023   42897.282       zero migration\n",
      "561  2024   42609.040       zero migration\n",
      "639  2021   43447.755   constant mortality\n",
      "640  2022   43151.887   constant mortality\n",
      "641  2023   42847.205   constant mortality\n",
      "642  2024   42534.717   constant mortality\n",
      "720  2021   43452.325            no change\n",
      "721  2022   43159.826            no change\n",
      "722  2023   42857.326            no change\n",
      "723  2024   42545.696            no change\n"
     ]
    }
   ],
   "source": [
    "print(data[(data['year'] > 2020) & (data['year'] < 2025)])"
   ]
  },
  {
   "cell_type": "code",
   "execution_count": null,
   "metadata": {},
   "outputs": [],
   "source": []
  }
 ],
 "metadata": {
  "kernelspec": {
   "display_name": "Python [default]",
   "language": "python",
   "name": "python3"
  },
  "language_info": {
   "codemirror_mode": {
    "name": "ipython",
    "version": 3
   },
   "file_extension": ".py",
   "mimetype": "text/x-python",
   "name": "python",
   "nbconvert_exporter": "python",
   "pygments_lexer": "ipython3",
   "version": "3.6.8"
  }
 },
 "nbformat": 4,
 "nbformat_minor": 2
}
